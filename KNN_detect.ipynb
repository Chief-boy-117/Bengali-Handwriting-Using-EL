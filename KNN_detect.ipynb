{
 "cells": [
  {
   "cell_type": "code",
   "execution_count": 1,
   "id": "7a717876-8559-48ec-91e5-80a02a46ad7d",
   "metadata": {},
   "outputs": [],
   "source": [
    "from sklearn.neighbors import KNeighborsClassifier\n",
    "from sklearn.model_selection import train_test_split\n",
    "from keras.utils import np_utils\n",
    "import numpy as np\n",
    "import os"
   ]
  },
  {
   "cell_type": "code",
   "execution_count": 50,
   "id": "4b8c73b7-5102-4b90-9e3e-8ab3af14e05b",
   "metadata": {},
   "outputs": [],
   "source": [
    "knn=KNeighborsClassifier(n_neighbors=8)"
   ]
  },
  {
   "cell_type": "code",
   "execution_count": 7,
   "id": "d0f38828-4524-423a-ab15-457d31829260",
   "metadata": {},
   "outputs": [],
   "source": [
    "np_temp = np.load('DB40.npz')\n",
    "X = np_temp['X_data']\n",
    "y = np_temp['y_data']"
   ]
  },
  {
   "cell_type": "code",
   "execution_count": 8,
   "id": "0f8d8b97-1faf-4ff2-90e6-eb4010d4ae54",
   "metadata": {},
   "outputs": [],
   "source": [
    "trainimg, testimg,trainlab,testlab = train_test_split(X, y, test_size = 0.2, random_state=42)"
   ]
  },
  {
   "cell_type": "code",
   "execution_count": 9,
   "id": "11da94ad-12f9-4cf4-a5b9-16e44af388c8",
   "metadata": {},
   "outputs": [
    {
     "data": {
      "text/plain": [
       "(9600, 1600)"
      ]
     },
     "execution_count": 9,
     "metadata": {},
     "output_type": "execute_result"
    }
   ],
   "source": [
    "trainimg.shape"
   ]
  },
  {
   "cell_type": "code",
   "execution_count": 51,
   "id": "56c751f4-8b13-45d2-a463-78ce3647b6d8",
   "metadata": {
    "tags": []
   },
   "outputs": [
    {
     "data": {
      "text/html": [
       "<style>#sk-container-id-7 {color: black;background-color: white;}#sk-container-id-7 pre{padding: 0;}#sk-container-id-7 div.sk-toggleable {background-color: white;}#sk-container-id-7 label.sk-toggleable__label {cursor: pointer;display: block;width: 100%;margin-bottom: 0;padding: 0.3em;box-sizing: border-box;text-align: center;}#sk-container-id-7 label.sk-toggleable__label-arrow:before {content: \"▸\";float: left;margin-right: 0.25em;color: #696969;}#sk-container-id-7 label.sk-toggleable__label-arrow:hover:before {color: black;}#sk-container-id-7 div.sk-estimator:hover label.sk-toggleable__label-arrow:before {color: black;}#sk-container-id-7 div.sk-toggleable__content {max-height: 0;max-width: 0;overflow: hidden;text-align: left;background-color: #f0f8ff;}#sk-container-id-7 div.sk-toggleable__content pre {margin: 0.2em;color: black;border-radius: 0.25em;background-color: #f0f8ff;}#sk-container-id-7 input.sk-toggleable__control:checked~div.sk-toggleable__content {max-height: 200px;max-width: 100%;overflow: auto;}#sk-container-id-7 input.sk-toggleable__control:checked~label.sk-toggleable__label-arrow:before {content: \"▾\";}#sk-container-id-7 div.sk-estimator input.sk-toggleable__control:checked~label.sk-toggleable__label {background-color: #d4ebff;}#sk-container-id-7 div.sk-label input.sk-toggleable__control:checked~label.sk-toggleable__label {background-color: #d4ebff;}#sk-container-id-7 input.sk-hidden--visually {border: 0;clip: rect(1px 1px 1px 1px);clip: rect(1px, 1px, 1px, 1px);height: 1px;margin: -1px;overflow: hidden;padding: 0;position: absolute;width: 1px;}#sk-container-id-7 div.sk-estimator {font-family: monospace;background-color: #f0f8ff;border: 1px dotted black;border-radius: 0.25em;box-sizing: border-box;margin-bottom: 0.5em;}#sk-container-id-7 div.sk-estimator:hover {background-color: #d4ebff;}#sk-container-id-7 div.sk-parallel-item::after {content: \"\";width: 100%;border-bottom: 1px solid gray;flex-grow: 1;}#sk-container-id-7 div.sk-label:hover label.sk-toggleable__label {background-color: #d4ebff;}#sk-container-id-7 div.sk-serial::before {content: \"\";position: absolute;border-left: 1px solid gray;box-sizing: border-box;top: 0;bottom: 0;left: 50%;z-index: 0;}#sk-container-id-7 div.sk-serial {display: flex;flex-direction: column;align-items: center;background-color: white;padding-right: 0.2em;padding-left: 0.2em;position: relative;}#sk-container-id-7 div.sk-item {position: relative;z-index: 1;}#sk-container-id-7 div.sk-parallel {display: flex;align-items: stretch;justify-content: center;background-color: white;position: relative;}#sk-container-id-7 div.sk-item::before, #sk-container-id-7 div.sk-parallel-item::before {content: \"\";position: absolute;border-left: 1px solid gray;box-sizing: border-box;top: 0;bottom: 0;left: 50%;z-index: -1;}#sk-container-id-7 div.sk-parallel-item {display: flex;flex-direction: column;z-index: 1;position: relative;background-color: white;}#sk-container-id-7 div.sk-parallel-item:first-child::after {align-self: flex-end;width: 50%;}#sk-container-id-7 div.sk-parallel-item:last-child::after {align-self: flex-start;width: 50%;}#sk-container-id-7 div.sk-parallel-item:only-child::after {width: 0;}#sk-container-id-7 div.sk-dashed-wrapped {border: 1px dashed gray;margin: 0 0.4em 0.5em 0.4em;box-sizing: border-box;padding-bottom: 0.4em;background-color: white;}#sk-container-id-7 div.sk-label label {font-family: monospace;font-weight: bold;display: inline-block;line-height: 1.2em;}#sk-container-id-7 div.sk-label-container {text-align: center;}#sk-container-id-7 div.sk-container {/* jupyter's `normalize.less` sets `[hidden] { display: none; }` but bootstrap.min.css set `[hidden] { display: none !important; }` so we also need the `!important` here to be able to override the default hidden behavior on the sphinx rendered scikit-learn.org. See: https://github.com/scikit-learn/scikit-learn/issues/21755 */display: inline-block !important;position: relative;}#sk-container-id-7 div.sk-text-repr-fallback {display: none;}</style><div id=\"sk-container-id-7\" class=\"sk-top-container\"><div class=\"sk-text-repr-fallback\"><pre>KNeighborsClassifier(n_neighbors=8)</pre><b>In a Jupyter environment, please rerun this cell to show the HTML representation or trust the notebook. <br />On GitHub, the HTML representation is unable to render, please try loading this page with nbviewer.org.</b></div><div class=\"sk-container\" hidden><div class=\"sk-item\"><div class=\"sk-estimator sk-toggleable\"><input class=\"sk-toggleable__control sk-hidden--visually\" id=\"sk-estimator-id-7\" type=\"checkbox\" checked><label for=\"sk-estimator-id-7\" class=\"sk-toggleable__label sk-toggleable__label-arrow\">KNeighborsClassifier</label><div class=\"sk-toggleable__content\"><pre>KNeighborsClassifier(n_neighbors=8)</pre></div></div></div></div></div>"
      ],
      "text/plain": [
       "KNeighborsClassifier(n_neighbors=8)"
      ]
     },
     "execution_count": 51,
     "metadata": {},
     "output_type": "execute_result"
    }
   ],
   "source": [
    "knn.fit(trainimg, trainlab)"
   ]
  },
  {
   "cell_type": "code",
   "execution_count": 8,
   "id": "12cb4408-f17f-4111-aaaa-1f00ab4076de",
   "metadata": {
    "jupyter": {
     "source_hidden": true
    },
    "tags": []
   },
   "outputs": [],
   "source": [
    "#train1 = trainimg.reshape(9600,1600)"
   ]
  },
  {
   "cell_type": "code",
   "execution_count": 9,
   "id": "93834d2b-0cc1-46d6-b87a-f3790cf7172b",
   "metadata": {
    "jupyter": {
     "source_hidden": true
    },
    "tags": []
   },
   "outputs": [],
   "source": [
    "#test1 = testimg.reshape(2400,1600)"
   ]
  },
  {
   "cell_type": "code",
   "execution_count": 32,
   "id": "1f9321fd-30b3-4cbe-9627-e7993877dddc",
   "metadata": {},
   "outputs": [
    {
     "data": {
      "text/plain": [
       "array([46.])"
      ]
     },
     "execution_count": 32,
     "metadata": {},
     "output_type": "execute_result"
    }
   ],
   "source": [
    "knn.predict(testimg[[482]])"
   ]
  },
  {
   "cell_type": "code",
   "execution_count": 33,
   "id": "c637db97-631d-498b-b5e4-16a57fec23df",
   "metadata": {},
   "outputs": [
    {
     "data": {
      "text/plain": [
       "46.0"
      ]
     },
     "execution_count": 33,
     "metadata": {},
     "output_type": "execute_result"
    }
   ],
   "source": [
    "testlab[482]"
   ]
  },
  {
   "cell_type": "code",
   "execution_count": 52,
   "id": "d9eb56f4-0cb6-427c-be7f-1e406bd88c56",
   "metadata": {},
   "outputs": [
    {
     "name": "stdout",
     "output_type": "stream",
     "text": [
      "0.6383333333333333\n"
     ]
    }
   ],
   "source": [
    "print(knn.score(testimg,testlab))"
   ]
  },
  {
   "cell_type": "code",
   "execution_count": 57,
   "id": "70bd91ec-5577-4f13-b2b3-020b59834e6b",
   "metadata": {
    "tags": []
   },
   "outputs": [
    {
     "name": "stdout",
     "output_type": "stream",
     "text": [
      "n = 1\tScore = 0.65625\n",
      "n = 2\tScore = 0.6283333333333333\n",
      "n = 3\tScore = 0.6475\n",
      "n = 4\tScore = 0.6408333333333334\n",
      "n = 5\tScore = 0.65125\n",
      "n = 6\tScore = 0.6379166666666667\n",
      "n = 7\tScore = 0.6358333333333334\n",
      "n = 8\tScore = 0.6383333333333333\n",
      "n = 9\tScore = 0.6366666666666667\n",
      "n = 10\tScore = 0.6383333333333333\n",
      "n = 11\tScore = 0.62875\n",
      "n = 12\tScore = 0.62625\n",
      "n = 13\tScore = 0.62875\n",
      "n = 14\tScore = 0.625\n",
      "n = 15\tScore = 0.6204166666666666\n",
      "n = 16\tScore = 0.6170833333333333\n",
      "n = 17\tScore = 0.6145833333333334\n",
      "n = 18\tScore = 0.6075\n",
      "n = 19\tScore = 0.6066666666666667\n",
      "n = 20\tScore = 0.605\n"
     ]
    }
   ],
   "source": [
    "for i in range(20):\n",
    "    knn=KNeighborsClassifier(n_neighbors=(i+1))\n",
    "    knn.fit(trainimg, trainlab)\n",
    "    print(\"n = \" + str((i+1)) + \"\\tScore = \" + str(knn.score(testimg,testlab)))"
   ]
  },
  {
   "cell_type": "code",
   "execution_count": null,
   "id": "8332418e-4419-452b-8848-36c76a2b8a54",
   "metadata": {},
   "outputs": [],
   "source": []
  },
  {
   "cell_type": "code",
   "execution_count": 10,
   "id": "9d301e58-4102-4f35-ae45-b7e9d12e1dfc",
   "metadata": {},
   "outputs": [
    {
     "name": "stdout",
     "output_type": "stream",
     "text": [
      "n = 1\tScore = 0.6708333333333333\n",
      "n = 2\tScore = 0.6316666666666667\n",
      "n = 3\tScore = 0.6475\n",
      "n = 4\tScore = 0.6375\n",
      "n = 5\tScore = 0.6495833333333333\n",
      "n = 6\tScore = 0.645\n",
      "n = 7\tScore = 0.64875\n",
      "n = 8\tScore = 0.6475\n",
      "n = 9\tScore = 0.6420833333333333\n",
      "n = 10\tScore = 0.6416666666666667\n",
      "n = 11\tScore = 0.64125\n",
      "n = 12\tScore = 0.6404166666666666\n",
      "n = 13\tScore = 0.6329166666666667\n",
      "n = 14\tScore = 0.63375\n",
      "n = 15\tScore = 0.6229166666666667\n",
      "n = 16\tScore = 0.6195833333333334\n",
      "n = 17\tScore = 0.6166666666666667\n",
      "n = 18\tScore = 0.6141666666666666\n",
      "n = 19\tScore = 0.6070833333333333\n",
      "n = 20\tScore = 0.6066666666666667\n"
     ]
    }
   ],
   "source": [
    "for i in range(10):\n",
    "    knn=KNeighborsClassifier(n_neighbors=(i+1), algorithm='ball_tree')\n",
    "    knn.fit(trainimg, trainlab)\n",
    "    print(\"n = \" + str((i+1)) + \"\\tScore = \" + str(knn.score(testimg,testlab)))"
   ]
  },
  {
   "cell_type": "code",
   "execution_count": 11,
   "id": "faaae9f4-d8a1-43de-82a8-6fe91398cc28",
   "metadata": {},
   "outputs": [
    {
     "name": "stdout",
     "output_type": "stream",
     "text": [
      "n = 1\tScore = 0.6708333333333333\n",
      "n = 2\tScore = 0.6316666666666667\n",
      "n = 3\tScore = 0.6475\n",
      "n = 4\tScore = 0.6375\n",
      "n = 5\tScore = 0.6495833333333333\n",
      "n = 6\tScore = 0.645\n",
      "n = 7\tScore = 0.64875\n",
      "n = 8\tScore = 0.6475\n",
      "n = 9\tScore = 0.6420833333333333\n",
      "n = 10\tScore = 0.6416666666666667\n"
     ]
    }
   ],
   "source": [
    "for i in range(10):\n",
    "    knn=KNeighborsClassifier(n_neighbors=(i+1), algorithm='kd_tree')\n",
    "    knn.fit(trainimg, trainlab)\n",
    "    print(\"n = \" + str((i+1)) + \"\\tScore = \" + str(knn.score(testimg,testlab)))"
   ]
  },
  {
   "cell_type": "code",
   "execution_count": null,
   "id": "17d00a98-e50e-4b81-86dc-19a143b23eb5",
   "metadata": {},
   "outputs": [],
   "source": []
  }
 ],
 "metadata": {
  "kernelspec": {
   "display_name": "imgclass",
   "language": "python",
   "name": "imgclass"
  },
  "language_info": {
   "codemirror_mode": {
    "name": "ipython",
    "version": 3
   },
   "file_extension": ".py",
   "mimetype": "text/x-python",
   "name": "python",
   "nbconvert_exporter": "python",
   "pygments_lexer": "ipython3",
   "version": "3.9.13"
  }
 },
 "nbformat": 4,
 "nbformat_minor": 5
}
